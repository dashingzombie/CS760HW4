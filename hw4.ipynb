{
 "cells": [
  {
   "cell_type": "code",
   "execution_count": 1,
   "metadata": {},
   "outputs": [],
   "source": [
    "\n",
    "import os\n",
    "import pandas as pd\n",
    "import numpy as np\n",
    "import math\n",
    "from collections import Counter\n"
   ]
  },
  {
   "cell_type": "code",
   "execution_count": 2,
   "metadata": {},
   "outputs": [],
   "source": [
    "files = os.listdir('languageID')"
   ]
  },
  {
   "cell_type": "code",
   "execution_count": 3,
   "metadata": {},
   "outputs": [],
   "source": [
    "\n",
    "data = pd.DataFrame()\n",
    "\n",
    "for i,a in enumerate(files):\n",
    "    with open(f'languageID/{a}', 'r') as f:\n",
    "        text = f.read()\n",
    "    data[i] = {'text': text, 'lang': a.split('.')[0]}\n",
    "    \n",
    "data = data.T\n",
    "    "
   ]
  },
  {
   "cell_type": "code",
   "execution_count": 4,
   "metadata": {},
   "outputs": [],
   "source": [
    "textdata = pd.DataFrame(index = None)\n",
    "for i in range(len(data)):\n",
    "    flag = sorted(Counter(data['text'][i].replace('\\n', '')).items())\n",
    "    flag =dict(flag)\n",
    "    unique, counts = flag.keys(), flag.values()\n",
    "    count = (dict(zip(unique, counts)))\n",
    "    textdata[i] = {'content':(count), 'lang':data['lang'][i]}\n",
    "textdata = textdata.T"
   ]
  },
  {
   "cell_type": "code",
   "execution_count": 5,
   "metadata": {},
   "outputs": [],
   "source": [
    "smooth = 1\n",
    "probdata = textdata.copy(deep=False)\n",
    "for i in range(len(textdata)):\n",
    "    data = textdata['content'][i].copy()\n",
    "    total = sum(data.values())\n",
    "    for i in data:\n",
    "        data[i] = (data[i]+smooth)/(total+(smooth*len(data)+1))\n",
    "    probdata['content'][i] = data"
   ]
  },
  {
   "cell_type": "code",
   "execution_count": 6,
   "metadata": {},
   "outputs": [],
   "source": [
    "train = lambda n: [f\"{n}{i}\" for i in range(0,10)]\n",
    "traine = train('e')\n",
    "trainj = train('j')\n",
    "trains = train('s')\n",
    "trainlist = [traine, trainj, trains]"
   ]
  },
  {
   "cell_type": "code",
   "execution_count": 7,
   "metadata": {},
   "outputs": [],
   "source": [
    "train = {}\n",
    "for a in trainlist:\n",
    "    merged_counter = Counter()\n",
    "    for i in range(len(textdata)):\n",
    "        if(textdata['lang'][i] in a):\n",
    "            merged_counter.update(textdata['content'][i])\n",
    "\n",
    "    merged_dict = dict(merged_counter)\n",
    "    train[a[0][0]] = merged_dict\n",
    "\n",
    "        "
   ]
  },
  {
   "cell_type": "code",
   "execution_count": 8,
   "metadata": {},
   "outputs": [],
   "source": [
    "class_counts = {c: sum(train[c].values()) for c in train.keys()}\n",
    "priors = {c: (class_counts[c] + 0.5) / ((sum(class_counts.values())) + 0.5 * (len(data)+1)) for c in train.keys()}"
   ]
  },
  {
   "cell_type": "code",
   "execution_count": 22,
   "metadata": {},
   "outputs": [
    {
     "data": {
      "text/plain": [
       "{'e': 0.33134635824722497, 'j': 0.3133101763075136, 's': 0.35508048344857057}"
      ]
     },
     "execution_count": 22,
     "metadata": {},
     "output_type": "execute_result"
    }
   ],
   "source": [
    "priors"
   ]
  },
  {
   "cell_type": "code",
   "execution_count": 10,
   "metadata": {},
   "outputs": [],
   "source": [
    "thetae = {x : (train['e'][x]+0.5)/(sum(train['e'].values())+0.5*27) for x in train['e'].keys()}\n",
    "thetaj = {x : (train['j'][x]+0.5)/(sum(train['j'].values())+0.5*27) for x in train['j'].keys()}\n",
    "thetas = {x : (train['s'][x]+0.5)/(sum(train['s'].values())+0.5*27) for x in train['s'].keys()}\n",
    "theta = {'e':thetae, 'j':thetaj, 's':thetas}"
   ]
  },
  {
   "cell_type": "code",
   "execution_count": 11,
   "metadata": {},
   "outputs": [
    {
     "name": "stdout",
     "output_type": "stream",
     "text": [
      "{' ': 0.1792499586981662, 'a': 0.0601685114819098, 'b': 0.011134974392863043, 'c': 0.021509995043779945, 'd': 0.021972575582355856, 'e': 0.1053692383941847, 'f': 0.018932760614571286, 'g': 0.017478936064761277, 'h': 0.047216256401784236, 'i': 0.055410540227986124, 'k': 0.0037336857756484387, 'l': 0.028977366595076822, 'm': 0.020518751032545846, 'n': 0.057921691723112505, 'o': 0.06446390219725756, 'p': 0.01675202378985627, 'r': 0.053824549810011564, 's': 0.06618205848339666, 't': 0.08012555757475633, 'u': 0.026664463902197257, 'v': 0.009284652238559392, 'w': 0.015496448042293078, 'y': 0.013844374690236246, 'z': 0.0006277878737815959, 'j': 0.001420783082768875, 'x': 0.001156451346439782, 'q': 0.0005617049396993227}\n",
      "{' ': 0.12344945665466997, 'a': 0.1317656102589189, 'b': 0.010866906600510151, 'c': 0.005485866033054963, 'd': 0.01722631818022992, 'e': 0.06020475907613823, 'f': 0.003878542227191726, 'g': 0.014011670568503443, 'h': 0.03176211607673224, 'i': 0.09703343932352633, 'j': 0.0023411020650616725, 'k': 0.05740941332681086, 'l': 0.001432614696530277, 'm': 0.03979873510604843, 'n': 0.05671057688947902, 'o': 0.09116321324993885, 'p': 0.0008735455466648031, 'r': 0.04280373178657535, 's': 0.0421747789929767, 't': 0.056990111464411755, 'u': 0.07061742199238269, 'w': 0.01974212935462455, 'y': 0.01415143785596981, 'z': 0.00772214263251686, 'v': 0.0002445927530661449, 'q': 0.00010482546559977637}\n",
      "{' ': 0.16826493170115014, 'a': 0.10456045141993771, 'b': 0.008232863618143134, 'c': 0.03752582405722919, 'd': 0.039745922111559924, 'e': 0.1138108599796491, 'f': 0.00860287996053159, 'g': 0.0071844839813758445, 'h': 0.0045327001942585795, 'i': 0.049859702136844375, 'j': 0.006629459467793161, 'k': 0.0002775122567913416, 'l': 0.052943171656748174, 'm': 0.02580863988159477, 'n': 0.054176559464709693, 'o': 0.07249236841293824, 'p': 0.02426690512164287, 'q': 0.007677839104560451, 'r': 0.05929511886774999, 's': 0.06577040485954797, 't': 0.03561407295488884, 'u': 0.03370232185254849, 'v': 0.00588942678301625, 'w': 9.250408559711388e-05, 'x': 0.0024976103111220747, 'y': 0.007862847275754679, 'z': 0.0026826184823163022}\n"
     ]
    }
   ],
   "source": [
    "print(thetae)\n",
    "print(thetaj)\n",
    "print(thetas)"
   ]
  },
  {
   "cell_type": "code",
   "execution_count": 12,
   "metadata": {},
   "outputs": [
    {
     "name": "stdout",
     "output_type": "stream",
     "text": [
      "{' ': 498, 'a': 164, 'b': 32, 'c': 53, 'd': 57, 'e': 311, 'f': 55, 'g': 51, 'h': 140, 'i': 140, 'j': 3, 'k': 6, 'l': 85, 'm': 64, 'n': 139, 'o': 182, 'p': 53, 'q': 3, 'r': 141, 's': 186, 't': 225, 'u': 65, 'v': 31, 'w': 47, 'x': 4, 'y': 38, 'z': 2}\n"
     ]
    }
   ],
   "source": [
    "e10 = dict(textdata[textdata['lang']=='e10']['content'])[2]\n",
    "print(e10)"
   ]
  },
  {
   "cell_type": "code",
   "execution_count": 13,
   "metadata": {},
   "outputs": [],
   "source": [
    "ans5 = {}\n",
    "for i in train.keys():\n",
    "    prod = 0\n",
    "    for j in e10.keys():\n",
    "        if j in theta[i].keys():\n",
    "            prod += math.log(theta[i][j])*e10[j]\n",
    "    ans5[i] = prod\n",
    "            \n",
    "    "
   ]
  },
  {
   "cell_type": "code",
   "execution_count": 14,
   "metadata": {},
   "outputs": [
    {
     "data": {
      "text/plain": [
       "{'e': -7841.865447060634, 'j': -8730.385774627437, 's': -8467.282044010557}"
      ]
     },
     "execution_count": 14,
     "metadata": {},
     "output_type": "execute_result"
    }
   ],
   "source": [
    "ans5"
   ]
  },
  {
   "cell_type": "code",
   "execution_count": 15,
   "metadata": {},
   "outputs": [
    {
     "name": "stdout",
     "output_type": "stream",
     "text": [
      "{'e': -7842.9700381117955, 'j': -8731.546336227955, 's': -8468.31745481182}\n",
      "-25042.83382915157\n"
     ]
    },
    {
     "data": {
      "text/plain": [
       "{'e': 17199.863791039774, 'j': 16311.287492923613, 's': 16574.51637433975}"
      ]
     },
     "execution_count": 15,
     "metadata": {},
     "output_type": "execute_result"
    }
   ],
   "source": [
    "ans6 = {}\n",
    "\n",
    "for a in ans5.keys():\n",
    "    ans6[a] = ans5[a] + math.log(priors[a])\n",
    "    \n",
    "sum = np.sum(list(ans6.values()))\n",
    "\n",
    "print(ans6)\n",
    "print(sum)\n",
    "\n",
    "for a in ans6.keys():\n",
    "    ans6[a] = ans6[a] - sum\n",
    "    \n",
    "ans6"
   ]
  },
  {
   "cell_type": "code",
   "execution_count": 23,
   "metadata": {},
   "outputs": [],
   "source": [
    "def test(document):\n",
    "    case = dict(textdata[textdata['lang']==document]['content'].reset_index(drop=True))[0]\n",
    "    ans = {}\n",
    "    for i in train.keys():\n",
    "        prod = 0\n",
    "        for j in case.keys():\n",
    "            if j in theta[i].keys():\n",
    "                prod += math.log(theta[i][j])*case[j]\n",
    "        ans[i] = prod\n",
    "    print(ans)\n",
    "    return max(ans, key=ans.get)\n"
   ]
  },
  {
   "cell_type": "code",
   "execution_count": 24,
   "metadata": {},
   "outputs": [
    {
     "name": "stdout",
     "output_type": "stream",
     "text": [
      "{'e': -7841.865447060634, 'j': -8730.385774627437, 's': -8467.282044010557}\n"
     ]
    },
    {
     "data": {
      "text/plain": [
       "'e'"
      ]
     },
     "execution_count": 24,
     "metadata": {},
     "output_type": "execute_result"
    }
   ],
   "source": [
    "test('e10')"
   ]
  },
  {
   "cell_type": "code",
   "execution_count": 17,
   "metadata": {},
   "outputs": [],
   "source": [
    "testx = lambda n: [f\"{n}{i}\" for i in range(10,20)]\n",
    "testlist = [testx('e'), testx('j'), testx('s')]"
   ]
  },
  {
   "cell_type": "code",
   "execution_count": 18,
   "metadata": {},
   "outputs": [],
   "source": [
    "y_true = []\n",
    "y_pred = []\n",
    "for i in testlist:\n",
    "    for j in i:\n",
    "        y_true.append(j.split('1')[0])\n",
    "        y_pred.append(test(j))\n",
    "            "
   ]
  },
  {
   "cell_type": "code",
   "execution_count": 19,
   "metadata": {},
   "outputs": [],
   "source": [
    "def generate_confusion_matrix(y_true, y_pred):\n",
    "    classes = sorted(set(y_true))  \n",
    "    num_classes = len(classes)\n",
    "    confusion_matrix = [[0] * num_classes for _ in range(num_classes)]\n",
    "\n",
    "    class_index = {c: i for i, c in enumerate(classes)}  \n",
    "\n",
    "    for true_label, predicted_label in zip(y_true, y_pred):\n",
    "        true_index = class_index[true_label]\n",
    "        pred_index = class_index[predicted_label]\n",
    "        confusion_matrix[true_index][pred_index] += 1\n",
    "\n",
    "    return classes, confusion_matrix"
   ]
  },
  {
   "cell_type": "code",
   "execution_count": 20,
   "metadata": {},
   "outputs": [
    {
     "name": "stdout",
     "output_type": "stream",
     "text": [
      "Classes: ['e', 'j', 's']\n",
      "Confusion Matrix:\n",
      "[10, 0, 0]\n",
      "[0, 10, 0]\n",
      "[0, 0, 10]\n"
     ]
    }
   ],
   "source": [
    "classes, confusion_matrix = generate_confusion_matrix(y_true, y_pred)\n",
    "\n",
    "\n",
    "print(\"Classes:\", classes)\n",
    "print(\"Confusion Matrix:\")\n",
    "for row in confusion_matrix:\n",
    "    print(row)"
   ]
  },
  {
   "cell_type": "code",
   "execution_count": 25,
   "metadata": {},
   "outputs": [
    {
     "name": "stderr",
     "output_type": "stream",
     "text": [
      "C:\\Users\\devme\\AppData\\Local\\Packages\\PythonSoftwareFoundation.Python.3.11_qbz5n2kfra8p0\\LocalCache\\local-packages\\Python311\\site-packages\\sklearn\\datasets\\_openml.py:1002: FutureWarning: The default value of `parser` will change from `'liac-arff'` to `'auto'` in 1.4. You can set `parser='auto'` to silence this warning. Therefore, an `ImportError` will be raised from 1.4 if the dataset is dense and pandas is not installed. Note that the pandas parser may return different data types. See the Notes Section in fetch_openml's API doc for details.\n",
      "  warn(\n"
     ]
    },
    {
     "name": "stdout",
     "output_type": "stream",
     "text": [
      "Epoch [1/100], Loss: 18.1662\n",
      "Epoch [2/100], Loss: 15.3768\n",
      "Epoch [3/100], Loss: 13.8968\n",
      "Epoch [4/100], Loss: 12.8259\n",
      "Epoch [5/100], Loss: 11.9801\n",
      "Epoch [6/100], Loss: 11.2799\n",
      "Epoch [7/100], Loss: 10.6812\n",
      "Epoch [8/100], Loss: 10.1577\n",
      "Epoch [9/100], Loss: 9.6944\n",
      "Epoch [10/100], Loss: 9.2841\n",
      "Epoch [11/100], Loss: 8.9234\n",
      "Epoch [12/100], Loss: 8.6089\n",
      "Epoch [13/100], Loss: 8.3354\n",
      "Epoch [14/100], Loss: 8.0957\n",
      "Epoch [15/100], Loss: 7.8817\n",
      "Epoch [16/100], Loss: 7.6868\n",
      "Epoch [17/100], Loss: 7.5057\n",
      "Epoch [18/100], Loss: 7.3351\n",
      "Epoch [19/100], Loss: 7.1728\n",
      "Epoch [20/100], Loss: 7.0177\n",
      "Epoch [21/100], Loss: 6.8690\n",
      "Epoch [22/100], Loss: 6.7262\n",
      "Epoch [23/100], Loss: 6.5892\n",
      "Epoch [24/100], Loss: 6.4577\n",
      "Epoch [25/100], Loss: 6.3313\n",
      "Epoch [26/100], Loss: 6.2099\n",
      "Epoch [27/100], Loss: 6.0933\n",
      "Epoch [28/100], Loss: 5.9813\n",
      "Epoch [29/100], Loss: 5.8735\n",
      "Epoch [30/100], Loss: 5.7698\n",
      "Epoch [31/100], Loss: 5.6701\n",
      "Epoch [32/100], Loss: 5.5741\n",
      "Epoch [33/100], Loss: 5.4816\n",
      "Epoch [34/100], Loss: 5.3926\n",
      "Epoch [35/100], Loss: 5.3067\n",
      "Epoch [36/100], Loss: 5.2239\n",
      "Epoch [37/100], Loss: 5.1440\n",
      "Epoch [38/100], Loss: 5.0669\n",
      "Epoch [39/100], Loss: 4.9924\n",
      "Epoch [40/100], Loss: 4.9204\n",
      "Epoch [41/100], Loss: 4.8509\n",
      "Epoch [42/100], Loss: 4.7836\n",
      "Epoch [43/100], Loss: 4.7185\n",
      "Epoch [44/100], Loss: 4.6555\n",
      "Epoch [45/100], Loss: 4.5944\n",
      "Epoch [46/100], Loss: 4.5353\n",
      "Epoch [47/100], Loss: 4.4780\n",
      "Epoch [48/100], Loss: 4.4224\n",
      "Epoch [49/100], Loss: 4.3685\n",
      "Epoch [50/100], Loss: 4.3162\n",
      "Epoch [51/100], Loss: 4.2654\n",
      "Epoch [52/100], Loss: 4.2161\n",
      "Epoch [53/100], Loss: 4.1681\n",
      "Epoch [54/100], Loss: 4.1215\n",
      "Epoch [55/100], Loss: 4.0762\n",
      "Epoch [56/100], Loss: 4.0322\n",
      "Epoch [57/100], Loss: 3.9893\n",
      "Epoch [58/100], Loss: 3.9475\n",
      "Epoch [59/100], Loss: 3.9069\n",
      "Epoch [60/100], Loss: 3.8673\n",
      "Epoch [61/100], Loss: 3.8287\n",
      "Epoch [62/100], Loss: 3.7911\n",
      "Epoch [63/100], Loss: 3.7544\n",
      "Epoch [64/100], Loss: 3.7186\n",
      "Epoch [65/100], Loss: 3.6838\n",
      "Epoch [66/100], Loss: 3.6497\n",
      "Epoch [67/100], Loss: 3.6164\n",
      "Epoch [68/100], Loss: 3.5840\n",
      "Epoch [69/100], Loss: 3.5523\n",
      "Epoch [70/100], Loss: 3.5213\n",
      "Epoch [71/100], Loss: 3.4910\n",
      "Epoch [72/100], Loss: 3.4614\n",
      "Epoch [73/100], Loss: 3.4324\n",
      "Epoch [74/100], Loss: 3.4041\n",
      "Epoch [75/100], Loss: 3.3764\n",
      "Epoch [76/100], Loss: 3.3493\n",
      "Epoch [77/100], Loss: 3.3228\n",
      "Epoch [78/100], Loss: 3.2968\n",
      "Epoch [79/100], Loss: 3.2713\n",
      "Epoch [80/100], Loss: 3.2464\n",
      "Epoch [81/100], Loss: 3.2220\n",
      "Epoch [82/100], Loss: 3.1981\n",
      "Epoch [83/100], Loss: 3.1746\n",
      "Epoch [84/100], Loss: 3.1516\n",
      "Epoch [85/100], Loss: 3.1290\n",
      "Epoch [86/100], Loss: 3.1069\n",
      "Epoch [87/100], Loss: 3.0852\n",
      "Epoch [88/100], Loss: 3.0639\n",
      "Epoch [89/100], Loss: 3.0430\n",
      "Epoch [90/100], Loss: 3.0224\n",
      "Epoch [91/100], Loss: 3.0023\n",
      "Epoch [92/100], Loss: 2.9825\n",
      "Epoch [93/100], Loss: 2.9631\n",
      "Epoch [94/100], Loss: 2.9440\n",
      "Epoch [95/100], Loss: 2.9252\n",
      "Epoch [96/100], Loss: 2.9067\n",
      "Epoch [97/100], Loss: 2.8886\n",
      "Epoch [98/100], Loss: 2.8708\n",
      "Epoch [99/100], Loss: 2.8533\n",
      "Epoch [100/100], Loss: 2.8360\n",
      "Test error: 2.8189\n"
     ]
    },
    {
     "data": {
      "image/png": "[encoded data removed]",
      "text/plain": [
       "<Figure size 640x480 with 1 Axes>"
      ]
     },
     "metadata": {},
     "output_type": "display_data"
    }
   ],
   "source": [
    "import numpy as np\n",
    "from sklearn.datasets import fetch_openml\n",
    "from sklearn.preprocessing import OneHotEncoder\n",
    "from sklearn.model_selection import train_test_split\n",
    "import matplotlib.pyplot as plt\n",
    "\n",
    "# Load MNIST dataset\n",
    "X, y = fetch_openml('mnist_784', version=1, return_X_y=True)\n",
    "X = X / 255.0\n",
    "y = OneHotEncoder().fit_transform(y.values.reshape(-1, 1)).toarray()\n",
    "\n",
    "# Split data into training and testing sets\n",
    "X_train, X_test, y_train, y_test = train_test_split(X, y, test_size=0.2, random_state=42)\n",
    "\n",
    "# Define constants and hyperparameters\n",
    "d = X_train.shape[1]  # Input dimension\n",
    "d1 = 300  # Number of units in the hidden layer\n",
    "k = 10  # Number of output classes\n",
    "learning_rate = 0.1\n",
    "epochs = 100\n",
    "\n",
    "# Initialize weights\n",
    "W1 = np.random.randn(d, d1)\n",
    "W2 = np.random.randn(d1, k)\n",
    "\n",
    "# Define sigmoid function and its derivative\n",
    "def sigmoid(x):\n",
    "    return 1 / (1 + np.exp(-x))\n",
    "\n",
    "def sigmoid_derivative(x):\n",
    "    return sigmoid(x) * (1 - sigmoid(x))\n",
    "\n",
    "# Training loop with optimized vectorized operations\n",
    "losses = []\n",
    "\n",
    "for epoch in range(epochs):\n",
    "    # Forward pass\n",
    "    z1 = np.dot(X_train, W1)\n",
    "    a1 = sigmoid(z1)\n",
    "    z2 = np.dot(a1, W2)\n",
    "    y_hat = np.exp(z2 - np.max(z2, axis=1, keepdims=True)) / np.sum(np.exp(z2 - np.max(z2, axis=1, keepdims=True)), axis=1, keepdims=True)\n",
    "\n",
    "    # Compute loss\n",
    "    loss = -np.sum(y_train * np.log(y_hat)) / X_train.shape[0]\n",
    "    losses.append(loss)\n",
    "\n",
    "    # Backward pass\n",
    "    dz2 = y_hat - y_train\n",
    "    dW2 = np.dot(a1.T, dz2) / X_train.shape[0]\n",
    "    dz1 = np.dot(dz2, W2.T) * sigmoid_derivative(z1)\n",
    "    dW1 = np.dot(X_train.T, dz1) / X_train.shape[0]\n",
    "\n",
    "    # Update weights using stochastic gradient descent\n",
    "    W2 -= learning_rate * dW2\n",
    "    W1 -= learning_rate * dW1\n",
    "\n",
    "    print(f'Epoch [{epoch+1}/{epochs}], Loss: {loss:.4f}')\n",
    "\n",
    "# Test model\n",
    "z1_test = np.dot(X_test, W1)\n",
    "a1_test = sigmoid(z1_test)\n",
    "z2_test = np.dot(a1_test, W2)\n",
    "y_hat_test = np.exp(z2_test - np.max(z2_test, axis=1, keepdims=True)) / np.sum(np.exp(z2_test - np.max(z2_test, axis=1, keepdims=True)), axis=1, keepdims=True)\n",
    "test_error = -np.sum(y_test * np.log(y_hat_test)) / X_test.shape[0]\n",
    "print(f'Test error: {test_error:.4f}')\n",
    "\n",
    "# Plot learning curve\n",
    "plt.plot(range(epochs), losses)\n",
    "plt.xlabel('Epochs')\n",
    "plt.ylabel('Loss')\n",
    "plt.title('Learning Curve')\n",
    "plt.show()\n"
   ]
  },
  {
   "cell_type": "code",
   "execution_count": 30,
   "metadata": {},
   "outputs": [
    {
     "data": {
      "text/plain": [
       "array([[ 0.82513158, -0.11380429, -0.72367814, ..., -0.36193541,\n",
       "        -0.95182937, -0.17010738],\n",
       "       [-0.6591335 ,  0.95270371,  0.23040571, ...,  0.94076363,\n",
       "        -0.58942654, -0.87734367],\n",
       "       [ 0.21011804, -0.90268615,  0.29701617, ..., -0.42628552,\n",
       "        -0.18333577,  0.08981674],\n",
       "       ...,\n",
       "       [ 0.25560742, -0.29613813,  0.48385276, ..., -0.84077962,\n",
       "        -0.75882109, -0.08394558],\n",
       "       [-0.81813811, -0.89744906, -0.76086834, ...,  0.49297446,\n",
       "         0.01754683, -0.4677035 ],\n",
       "       [ 0.35039017,  0.53391905,  0.96511964, ...,  0.9142322 ,\n",
       "        -0.94539261, -0.75397745]])"
      ]
     },
     "execution_count": 30,
     "metadata": {},
     "output_type": "execute_result"
    }
   ],
   "source": [
    "np.random.uniform(low=-1, high=1, size=(d, d1))"
   ]
  },
  {
   "cell_type": "code",
   "execution_count": 26,
   "metadata": {},
   "outputs": [
    {
     "name": "stdout",
     "output_type": "stream",
     "text": [
      "Epoch [1/100], Loss: 2.2222\n",
      "Epoch [2/100], Loss: 1.9797\n",
      "Epoch [3/100], Loss: 1.6237\n",
      "Epoch [4/100], Loss: 1.2865\n",
      "Epoch [5/100], Loss: 1.0443\n",
      "Epoch [6/100], Loss: 0.8809\n",
      "Epoch [7/100], Loss: 0.7684\n",
      "Epoch [8/100], Loss: 0.6878\n",
      "Epoch [9/100], Loss: 0.6276\n",
      "Epoch [10/100], Loss: 0.5812\n",
      "Epoch [11/100], Loss: 0.5443\n",
      "Epoch [12/100], Loss: 0.5144\n",
      "Epoch [13/100], Loss: 0.4898\n",
      "Epoch [14/100], Loss: 0.4690\n",
      "Epoch [15/100], Loss: 0.4514\n",
      "Epoch [16/100], Loss: 0.4363\n",
      "Epoch [17/100], Loss: 0.4232\n",
      "Epoch [18/100], Loss: 0.4117\n",
      "Epoch [19/100], Loss: 0.4015\n",
      "Epoch [20/100], Loss: 0.3925\n",
      "Epoch [21/100], Loss: 0.3843\n",
      "Epoch [22/100], Loss: 0.3770\n",
      "Epoch [23/100], Loss: 0.3703\n",
      "Epoch [24/100], Loss: 0.3641\n",
      "Epoch [25/100], Loss: 0.3585\n",
      "Epoch [26/100], Loss: 0.3533\n",
      "Epoch [27/100], Loss: 0.3485\n",
      "Epoch [28/100], Loss: 0.3439\n",
      "Epoch [29/100], Loss: 0.3397\n",
      "Epoch [30/100], Loss: 0.3357\n",
      "Epoch [31/100], Loss: 0.3319\n",
      "Epoch [32/100], Loss: 0.3284\n",
      "Epoch [33/100], Loss: 0.3250\n",
      "Epoch [34/100], Loss: 0.3218\n",
      "Epoch [35/100], Loss: 0.3187\n",
      "Epoch [36/100], Loss: 0.3158\n",
      "Epoch [37/100], Loss: 0.3130\n",
      "Epoch [38/100], Loss: 0.3103\n",
      "Epoch [39/100], Loss: 0.3077\n",
      "Epoch [40/100], Loss: 0.3052\n",
      "Epoch [41/100], Loss: 0.3027\n",
      "Epoch [42/100], Loss: 0.3004\n",
      "Epoch [43/100], Loss: 0.2982\n",
      "Epoch [44/100], Loss: 0.2960\n",
      "Epoch [45/100], Loss: 0.2938\n",
      "Epoch [46/100], Loss: 0.2917\n",
      "Epoch [47/100], Loss: 0.2897\n",
      "Epoch [48/100], Loss: 0.2878\n",
      "Epoch [49/100], Loss: 0.2858\n",
      "Epoch [50/100], Loss: 0.2839\n",
      "Epoch [51/100], Loss: 0.2821\n",
      "Epoch [52/100], Loss: 0.2803\n",
      "Epoch [53/100], Loss: 0.2785\n",
      "Epoch [54/100], Loss: 0.2768\n",
      "Epoch [55/100], Loss: 0.2751\n",
      "Epoch [56/100], Loss: 0.2735\n",
      "Epoch [57/100], Loss: 0.2718\n",
      "Epoch [58/100], Loss: 0.2702\n",
      "Epoch [59/100], Loss: 0.2686\n",
      "Epoch [60/100], Loss: 0.2671\n",
      "Epoch [61/100], Loss: 0.2655\n",
      "Epoch [62/100], Loss: 0.2641\n",
      "Epoch [63/100], Loss: 0.2626\n",
      "Epoch [64/100], Loss: 0.2611\n",
      "Epoch [65/100], Loss: 0.2597\n",
      "Epoch [66/100], Loss: 0.2583\n",
      "Epoch [67/100], Loss: 0.2569\n",
      "Epoch [68/100], Loss: 0.2555\n",
      "Epoch [69/100], Loss: 0.2542\n",
      "Epoch [70/100], Loss: 0.2529\n",
      "Epoch [71/100], Loss: 0.2515\n",
      "Epoch [72/100], Loss: 0.2502\n",
      "Epoch [73/100], Loss: 0.2490\n",
      "Epoch [74/100], Loss: 0.2477\n",
      "Epoch [75/100], Loss: 0.2465\n",
      "Epoch [76/100], Loss: 0.2453\n",
      "Epoch [77/100], Loss: 0.2440\n",
      "Epoch [78/100], Loss: 0.2428\n",
      "Epoch [79/100], Loss: 0.2416\n",
      "Epoch [80/100], Loss: 0.2405\n",
      "Epoch [81/100], Loss: 0.2393\n",
      "Epoch [82/100], Loss: 0.2382\n",
      "Epoch [83/100], Loss: 0.2370\n",
      "Epoch [84/100], Loss: 0.2359\n",
      "Epoch [85/100], Loss: 0.2348\n",
      "Epoch [86/100], Loss: 0.2337\n",
      "Epoch [87/100], Loss: 0.2326\n",
      "Epoch [88/100], Loss: 0.2316\n",
      "Epoch [89/100], Loss: 0.2305\n",
      "Epoch [90/100], Loss: 0.2295\n",
      "Epoch [91/100], Loss: 0.2284\n",
      "Epoch [92/100], Loss: 0.2274\n",
      "Epoch [93/100], Loss: 0.2264\n",
      "Epoch [94/100], Loss: 0.2254\n",
      "Epoch [95/100], Loss: 0.2244\n",
      "Epoch [96/100], Loss: 0.2234\n",
      "Epoch [97/100], Loss: 0.2225\n",
      "Epoch [98/100], Loss: 0.2215\n",
      "Epoch [99/100], Loss: 0.2206\n",
      "Epoch [100/100], Loss: 0.2196\n",
      "Test error: tensor(0.0614)\n"
     ]
    },
    {
     "data": {
      "image/png": "[encoded data removed]",
      "text/plain": [
       "<Figure size 640x480 with 1 Axes>"
      ]
     },
     "metadata": {},
     "output_type": "display_data"
    }
   ],
   "source": [
    "import torch\n",
    "import torch.nn as nn\n",
    "import torch.optim as optim\n",
    "from torchvision import datasets, transforms\n",
    "\n",
    "# Load MNIST dataset\n",
    "train_dataset = datasets.MNIST(root='./data', train=True, transform=transforms.ToTensor(), download=True)\n",
    "test_dataset = datasets.MNIST(root='./data', train=False, transform=transforms.ToTensor())\n",
    "train_loader = torch.utils.data.DataLoader(dataset=train_dataset, batch_size=100, shuffle=True)\n",
    "test_loader = torch.utils.data.DataLoader(dataset=test_dataset, batch_size=100, shuffle=False)\n",
    "\n",
    "# Define network\n",
    "class Net(nn.Module):\n",
    "    def __init__(self):\n",
    "        super(Net, self).__init__()\n",
    "        self.fc1 = nn.Linear(28*28, 64)\n",
    "        self.fc2 = nn.Linear(64, 10)\n",
    "\n",
    "    def forward(self, x):\n",
    "        x = torch.sigmoid(self.fc1(x))\n",
    "        x = self.fc2(x)\n",
    "        return x\n",
    "\n",
    "# Initialize network and optimizer\n",
    "model = Net()\n",
    "criterion = nn.CrossEntropyLoss()\n",
    "optimizer = optim.SGD(model.parameters(), lr=0.01)\n",
    "losses = []\n",
    "# Training loop\n",
    "for epoch in range(100):\n",
    "    running_loss = 0\n",
    "    for i, (images, labels) in enumerate(train_loader):\n",
    "        # Reshape images to (batch_size, input_size)\n",
    "        images = images.reshape(-1, 28*28)\n",
    "\n",
    "        # Forward pass\n",
    "        outputs = model(images)\n",
    "        loss = criterion(outputs, labels)\n",
    "\n",
    "        # Backward and optimize\n",
    "        optimizer.zero_grad()\n",
    "        loss.backward()\n",
    "        optimizer.step()\n",
    "        running_loss += loss.item()\n",
    "    \n",
    "    epoch_loss = running_loss / len(train_loader)\n",
    "    losses.append(epoch_loss)\n",
    "    print(f'Epoch [{epoch+1}/{100}], Loss: {epoch_loss:.4f}')\n",
    "\n",
    "# Test model\n",
    "correct = 0\n",
    "total = 0\n",
    "for images, labels in test_loader:\n",
    "    images = images.reshape(-1, 28*28)\n",
    "    outputs = model(images)\n",
    "    _, predicted = torch.max(outputs.data, 1)\n",
    "    total += labels.size(0)\n",
    "    correct += (predicted == labels).sum()\n",
    "\n",
    "print('Test error:', 1 - correct / total)\n",
    "\n",
    "\n",
    "plt.plot(range(epochs), losses)\n",
    "plt.xlabel('Epochs')\n",
    "plt.ylabel('Average Loss')\n",
    "plt.title('Learning Curve')\n",
    "plt.show()\n"
   ]
  },
  {
   "cell_type": "code",
   "execution_count": 31,
   "metadata": {},
   "outputs": [
    {
     "name": "stderr",
     "output_type": "stream",
     "text": [
      "C:\\Users\\devme\\AppData\\Local\\Packages\\PythonSoftwareFoundation.Python.3.11_qbz5n2kfra8p0\\LocalCache\\local-packages\\Python311\\site-packages\\sklearn\\datasets\\_openml.py:1002: FutureWarning: The default value of `parser` will change from `'liac-arff'` to `'auto'` in 1.4. You can set `parser='auto'` to silence this warning. Therefore, an `ImportError` will be raised from 1.4 if the dataset is dense and pandas is not installed. Note that the pandas parser may return different data types. See the Notes Section in fetch_openml's API doc for details.\n",
      "  warn(\n"
     ]
    },
    {
     "name": "stdout",
     "output_type": "stream",
     "text": [
      "Epoch [1/10], Loss: 17.0647\n",
      "Epoch [2/10], Loss: 8.4315\n",
      "Epoch [3/10], Loss: 6.2679\n",
      "Epoch [4/10], Loss: 5.6389\n",
      "Epoch [5/10], Loss: 5.3015\n",
      "Epoch [6/10], Loss: 5.0778\n",
      "Epoch [7/10], Loss: 4.9047\n",
      "Epoch [8/10], Loss: 4.7522\n",
      "Epoch [9/10], Loss: 4.6094\n",
      "Epoch [10/10], Loss: 4.4733\n",
      "Test error: 4.3561\n"
     ]
    },
    {
     "data": {
      "image/png": "[encoded data removed]",
      "text/plain": [
       "<Figure size 640x480 with 1 Axes>"
      ]
     },
     "metadata": {},
     "output_type": "display_data"
    }
   ],
   "source": [
    "import numpy as np\n",
    "from sklearn.datasets import fetch_openml\n",
    "from sklearn.preprocessing import OneHotEncoder\n",
    "from sklearn.model_selection import train_test_split\n",
    "import matplotlib.pyplot as plt\n",
    "\n",
    "# Load MNIST dataset\n",
    "X, y = fetch_openml('mnist_784', version=1, return_X_y=True)\n",
    "X = X / 255.0\n",
    "y = OneHotEncoder().fit_transform(y.values.reshape(-1, 1)).toarray()\n",
    "\n",
    "# Split data into training and testing sets\n",
    "X_train, X_test, y_train, y_test = train_test_split(X, y, test_size=0.2, random_state=42)\n",
    "\n",
    "# Define constants and hyperparameters\n",
    "d = X_train.shape[1]  # Input dimension\n",
    "d1 = 300  # Number of units in the hidden layer\n",
    "k = 10  # Number of output classes\n",
    "learning_rate = 0.1\n",
    "epochs = 10\n",
    "\n",
    "# Initialize weights\n",
    "W1 = np.random.uniform(low=-1, high=1, size=(d, d1))\n",
    "W2 = np.random.uniform(low=-1, high=1, size=(d1, k))\n",
    "\n",
    "# Define sigmoid function and its derivative\n",
    "def sigmoid(x):\n",
    "    return 1 / (1 + np.exp(-x))\n",
    "\n",
    "def sigmoid_derivative(x):\n",
    "    return sigmoid(x) * (1 - sigmoid(x))\n",
    "\n",
    "# Training loop with optimized vectorized operations\n",
    "losses = []\n",
    "\n",
    "for epoch in range(epochs):\n",
    "    # Forward pass\n",
    "    z1 = np.dot(X_train, W1)\n",
    "    a1 = sigmoid(z1)\n",
    "    z2 = np.dot(a1, W2)\n",
    "    y_hat = np.exp(z2 - np.max(z2, axis=1, keepdims=True)) / np.sum(np.exp(z2 - np.max(z2, axis=1, keepdims=True)), axis=1, keepdims=True)\n",
    "\n",
    "    # Compute loss\n",
    "    loss = -np.sum(y_train * np.log(y_hat)) / X_train.shape[0]\n",
    "    losses.append(loss)\n",
    "\n",
    "    # Backward pass\n",
    "    dz2 = y_hat - y_train\n",
    "    dW2 = np.dot(a1.T, dz2) / X_train.shape[0]\n",
    "    dz1 = np.dot(dz2, W2.T) * sigmoid_derivative(z1)\n",
    "    dW1 = np.dot(X_train.T, dz1) / X_train.shape[0]\n",
    "\n",
    "    # Update weights using stochastic gradient descent\n",
    "    W2 -= learning_rate * dW2\n",
    "    W1 -= learning_rate * dW1\n",
    "\n",
    "    print(f'Epoch [{epoch+1}/{epochs}], Loss: {loss:.4f}')\n",
    "\n",
    "# Test model\n",
    "z1_test = np.dot(X_test, W1)\n",
    "a1_test = sigmoid(z1_test)\n",
    "z2_test = np.dot(a1_test, W2)\n",
    "y_hat_test = np.exp(z2_test - np.max(z2_test, axis=1, keepdims=True)) / np.sum(np.exp(z2_test - np.max(z2_test, axis=1, keepdims=True)), axis=1, keepdims=True)\n",
    "test_error = -np.sum(y_test * np.log(y_hat_test)) / X_test.shape[0]\n",
    "print(f'Test error: {test_error:.4f}')\n",
    "\n",
    "# Plot learning curve\n",
    "plt.plot(range(epochs), losses)\n",
    "plt.xlabel('Epochs')\n",
    "plt.ylabel('Loss')\n",
    "plt.title('Learning Curve')\n",
    "plt.show()\n"
   ]
  },
  {
   "cell_type": "code",
   "execution_count": 35,
   "metadata": {},
   "outputs": [
    {
     "name": "stderr",
     "output_type": "stream",
     "text": [
      "C:\\Users\\devme\\AppData\\Local\\Packages\\PythonSoftwareFoundation.Python.3.11_qbz5n2kfra8p0\\LocalCache\\local-packages\\Python311\\site-packages\\sklearn\\datasets\\_openml.py:1002: FutureWarning: The default value of `parser` will change from `'liac-arff'` to `'auto'` in 1.4. You can set `parser='auto'` to silence this warning. Therefore, an `ImportError` will be raised from 1.4 if the dataset is dense and pandas is not installed. Note that the pandas parser may return different data types. See the Notes Section in fetch_openml's API doc for details.\n",
      "  warn(\n"
     ]
    },
    {
     "name": "stdout",
     "output_type": "stream",
     "text": [
      "Epoch [1/10], Loss: 2.3026\n",
      "Epoch [2/10], Loss: 2.3013\n",
      "Epoch [3/10], Loss: 2.3012\n",
      "Epoch [4/10], Loss: 2.3012\n",
      "Epoch [5/10], Loss: 2.3012\n",
      "Epoch [6/10], Loss: 2.3012\n",
      "Epoch [7/10], Loss: 2.3012\n",
      "Epoch [8/10], Loss: 2.3012\n",
      "Epoch [9/10], Loss: 2.3012\n",
      "Epoch [10/10], Loss: 2.3012\n",
      "Test error: 2.3009\n"
     ]
    },
    {
     "data": {
      "image/png": "[encoded data removed]",
      "text/plain": [
       "<Figure size 640x480 with 1 Axes>"
      ]
     },
     "metadata": {},
     "output_type": "display_data"
    }
   ],
   "source": [
    "import numpy as np\n",
    "from sklearn.datasets import fetch_openml\n",
    "from sklearn.preprocessing import OneHotEncoder\n",
    "from sklearn.model_selection import train_test_split\n",
    "import matplotlib.pyplot as plt\n",
    "\n",
    "# Load MNIST dataset\n",
    "X, y = fetch_openml('mnist_784', version=1, return_X_y=True)\n",
    "X = X / 255.0\n",
    "y = OneHotEncoder().fit_transform(y.values.reshape(-1, 1)).toarray()\n",
    "\n",
    "# Split data into training and testing sets\n",
    "X_train, X_test, y_train, y_test = train_test_split(X, y, test_size=0.2, random_state=42)\n",
    "\n",
    "# Define constants and hyperparameters\n",
    "d = X_train.shape[1]  # Input dimension\n",
    "d1 = 300  # Number of units in the hidden layer\n",
    "k = 10  # Number of output classes\n",
    "learning_rate = 0.1\n",
    "epochs = 10\n",
    "\n",
    "# Initialize weights\n",
    "W1 = np.random.randn(d, d1)\n",
    "W2 = np.random.randn(d1, k)\n",
    "W1 = W1*0\n",
    "W2 = W2*0\n",
    "\n",
    "# Define sigmoid function and its derivative\n",
    "def sigmoid(x):\n",
    "    return 1 / (1 + np.exp(-x))\n",
    "\n",
    "def sigmoid_derivative(x):\n",
    "    return sigmoid(x) * (1 - sigmoid(x))\n",
    "\n",
    "# Training loop with optimized vectorized operations\n",
    "losses = []\n",
    "\n",
    "for epoch in range(epochs):\n",
    "    # Forward pass\n",
    "    z1 = np.dot(X_train, W1)\n",
    "    a1 = sigmoid(z1)\n",
    "    z2 = np.dot(a1, W2)\n",
    "    y_hat = np.exp(z2 - np.max(z2, axis=1, keepdims=True)) / np.sum(np.exp(z2 - np.max(z2, axis=1, keepdims=True)), axis=1, keepdims=True)\n",
    "\n",
    "    # Compute loss\n",
    "    loss = -np.sum(y_train * np.log(y_hat)) / X_train.shape[0]\n",
    "    losses.append(loss)\n",
    "\n",
    "    # Backward pass\n",
    "    dz2 = y_hat - y_train\n",
    "    dW2 = np.dot(a1.T, dz2) / X_train.shape[0]\n",
    "    dz1 = np.dot(dz2, W2.T) * sigmoid_derivative(z1)\n",
    "    dW1 = np.dot(X_train.T, dz1) / X_train.shape[0]\n",
    "\n",
    "    # Update weights using stochastic gradient descent\n",
    "    W2 -= learning_rate * dW2\n",
    "    W1 -= learning_rate * dW1\n",
    "\n",
    "    print(f'Epoch [{epoch+1}/{epochs}], Loss: {loss:.4f}')\n",
    "\n",
    "# Test model\n",
    "z1_test = np.dot(X_test, W1)\n",
    "a1_test = sigmoid(z1_test)\n",
    "z2_test = np.dot(a1_test, W2)\n",
    "y_hat_test = np.exp(z2_test - np.max(z2_test, axis=1, keepdims=True)) / np.sum(np.exp(z2_test - np.max(z2_test, axis=1, keepdims=True)), axis=1, keepdims=True)\n",
    "test_error = -np.sum(y_test * np.log(y_hat_test)) / X_test.shape[0]\n",
    "print(f'Test error: {test_error:.4f}')\n",
    "\n",
    "# Plot learning curve\n",
    "plt.plot(range(epochs), losses)\n",
    "plt.xlabel('Epochs')\n",
    "plt.ylabel('Loss')\n",
    "plt.title('Learning Curve')\n",
    "plt.show()\n"
   ]
  }
 ],
 "metadata": {
  "kernelspec": {
   "display_name": "Python 3",
   "language": "python",
   "name": "python3"
  },
  "language_info": {
   "codemirror_mode": {
    "name": "ipython",
    "version": 3
   },
   "file_extension": ".py",
   "mimetype": "text/x-python",
   "name": "python",
   "nbconvert_exporter": "python",
   "pygments_lexer": "ipython3",
   "version": "3.11.6"
  }
 },
 "nbformat": 4,
 "nbformat_minor": 2
}
